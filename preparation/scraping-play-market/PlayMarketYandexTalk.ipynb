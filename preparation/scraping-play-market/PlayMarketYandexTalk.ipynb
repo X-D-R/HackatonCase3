{
  "nbformat": 4,
  "nbformat_minor": 0,
  "metadata": {
    "colab": {
      "provenance": []
    },
    "kernelspec": {
      "name": "python3",
      "display_name": "Python 3"
    },
    "language_info": {
      "name": "python"
    }
  },
  "cells": [
    {
      "cell_type": "code",
      "source": [
        "!pip install google-play-scraper pandas"
      ],
      "metadata": {
        "colab": {
          "base_uri": "https://localhost:8080/"
        },
        "id": "pt9seTvbnzUn",
        "outputId": "c54688a9-aa95-4ed7-fd55-c496c786ff10"
      },
      "execution_count": 1,
      "outputs": [
        {
          "output_type": "stream",
          "name": "stdout",
          "text": [
            "Requirement already satisfied: google-play-scraper in /usr/local/lib/python3.11/dist-packages (1.2.7)\n",
            "Requirement already satisfied: pandas in /usr/local/lib/python3.11/dist-packages (2.2.2)\n",
            "Requirement already satisfied: numpy>=1.23.2 in /usr/local/lib/python3.11/dist-packages (from pandas) (2.0.2)\n",
            "Requirement already satisfied: python-dateutil>=2.8.2 in /usr/local/lib/python3.11/dist-packages (from pandas) (2.9.0.post0)\n",
            "Requirement already satisfied: pytz>=2020.1 in /usr/local/lib/python3.11/dist-packages (from pandas) (2025.2)\n",
            "Requirement already satisfied: tzdata>=2022.7 in /usr/local/lib/python3.11/dist-packages (from pandas) (2025.2)\n",
            "Requirement already satisfied: six>=1.5 in /usr/local/lib/python3.11/dist-packages (from python-dateutil>=2.8.2->pandas) (1.17.0)\n"
          ]
        }
      ]
    },
    {
      "cell_type": "code",
      "source": [
        "from google_play_scraper import Sort, reviews, app\n",
        "import pandas as pd\n",
        "import time\n",
        "from random import randint\n",
        "import os\n",
        "\n",
        "\n",
        "def get_app_reviews(app_id='ru.yandex.subtitles', lang='ru', country='ru', max_reviews=200):\n",
        "    print(\"Получение отзывов...\")\n",
        "\n",
        "    all_reviews = []\n",
        "    continuation_token = None\n",
        "    retry_count = 0\n",
        "    max_retries = 3\n",
        "\n",
        "    try:\n",
        "        app_info = app(app_id, lang=lang, country=country)\n",
        "        print(f\"Приложение найдено: {app_info['title']}\")\n",
        "\n",
        "        while len(all_reviews) < max_reviews and retry_count < max_retries:\n",
        "            try:\n",
        "                batch, continuation_token = reviews(\n",
        "                    app_id,\n",
        "                    lang=lang,\n",
        "                    country=country,\n",
        "                    sort=Sort.NEWEST,\n",
        "                    count=100,\n",
        "                    continuation_token=continuation_token\n",
        "                )\n",
        "\n",
        "                if not batch:\n",
        "                    print(\"Не получено новых отзывов.\")\n",
        "                    break\n",
        "\n",
        "                all_reviews.extend(batch)\n",
        "                print(f\"Получено {len(batch)} отзывов. Всего: {len(all_reviews)}\")\n",
        "                time.sleep(randint(1, 3))\n",
        "\n",
        "            except Exception as e:\n",
        "                print(f\"Ошибка при получении отзывов: {str(e)}\")\n",
        "                retry_count += 1\n",
        "                print(f\"Повторная попытка {retry_count}/{max_retries}...\")\n",
        "                time.sleep(randint(2, 5))\n",
        "\n",
        "        return all_reviews[:max_reviews]\n",
        "\n",
        "    except Exception as e:\n",
        "        print(f\"Ошибка: {str(e)}\")\n",
        "        return []\n",
        "\n",
        "def save_reviews_to_csv(reviews, filename):\n",
        "    \"\"\"Сохраняет отзывы в CSV файл\"\"\"\n",
        "    df = pd.DataFrame(reviews)\n",
        "    df.to_csv(filename, index=False, encoding='utf-8-sig')\n",
        "    print(f\"Отзывы сохранены в файл: {filename}\")\n",
        "\n",
        "def main():\n",
        "    # Получаем отзывы\n",
        "    reviews = get_app_reviews(max_reviews=2000)\n",
        "\n",
        "    if not reviews:\n",
        "        print(\"Не удалось получить отзывы.\")\n",
        "        return\n",
        "\n",
        "    # Сохраняем сырые данные\n",
        "    save_reviews_to_csv(reviews, 'yandex_talk_reviews.csv')\n",
        "\n",
        "    reviews_text = \"\\n\".join([str(review.get('content', '')) for review in reviews])\n",
        "\n",
        "    with open('yandex_talk_ai_report.txt', 'w', encoding='utf-8') as f:\n",
        "      f.write(reviews_text)\n",
        "      print(\"\\nОтчет сохранен в файл: yandex_talk_text.txt\")\n",
        "\n",
        "\n",
        "if __name__ == \"__main__\":\n",
        "    main()"
      ],
      "metadata": {
        "colab": {
          "base_uri": "https://localhost:8080/"
        },
        "id": "6_8QDBuJuFmz",
        "outputId": "3c14ca57-a8dd-4fb0-ff0a-de7fa19073ac"
      },
      "execution_count": 2,
      "outputs": [
        {
          "output_type": "stream",
          "name": "stdout",
          "text": [
            "Получение отзывов...\n",
            "Приложение найдено: Яндекс Разговор: помощь глухим\n",
            "Получено 100 отзывов. Всего: 100\n",
            "Получено 100 отзывов. Всего: 200\n",
            "Получено 100 отзывов. Всего: 300\n",
            "Получено 96 отзывов. Всего: 396\n",
            "Не получено новых отзывов.\n",
            "Отзывы сохранены в файл: yandex_talk_reviews.csv\n",
            "\n",
            "Отчет сохранен в файл: yandex_talk_ai_report.txt\n"
          ]
        }
      ]
    }
  ]
}